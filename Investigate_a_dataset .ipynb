{
 "cells": [
  {
   "cell_type": "markdown",
   "metadata": {},
   "source": [
    "# TMDB Movie Data Project"
   ]
  },
  {
   "cell_type": "markdown",
   "metadata": {},
   "source": [
    "## Project Description\n",
    "### This dataset includes user reviews and box office figures for 10,000 films that were gathered from The Movie Database (TMDb), the url(https://www.kaggle.com/tmdb/tmdb-movie-metadata).\n",
    "### This projects aims at analysing the dataset to answer the following questions;\n",
    "\n",
    "##  Questions to answer:\n",
    "### 1. DIsplay amount of Vote_count per language\n",
    "### 2. Relationship between Revenue and Runtime\n",
    "### 3. Relationship between Revenue and Popularity\n",
    "### 4. Relationship between Revenue and Amount of Votes\n",
    "### 5. Which language has the highest popularity\n",
    "### 6. Top five voted for movies.\n",
    "### 7. Movie with longest runtime"
   ]
  },
  {
   "cell_type": "code",
   "execution_count": 1,
   "metadata": {},
   "outputs": [],
   "source": [
    "#IMPORTING LIBRARIES\n",
    "import pandas as pd\n",
    "import seaborn as sns\n",
    "import matplotlib.pyplot as plt\n",
    "%matplotlib inline\n",
    "import os"
   ]
  },
  {
   "cell_type": "code",
   "execution_count": 2,
   "metadata": {},
   "outputs": [],
   "source": [
    "os.chdir('/')"
   ]
  },
  {
   "cell_type": "code",
   "execution_count": 3,
   "metadata": {},
   "outputs": [
    {
     "data": {
      "text/html": [
       "<div>\n",
       "<style scoped>\n",
       "    .dataframe tbody tr th:only-of-type {\n",
       "        vertical-align: middle;\n",
       "    }\n",
       "\n",
       "    .dataframe tbody tr th {\n",
       "        vertical-align: top;\n",
       "    }\n",
       "\n",
       "    .dataframe thead th {\n",
       "        text-align: right;\n",
       "    }\n",
       "</style>\n",
       "<table border=\"1\" class=\"dataframe\">\n",
       "  <thead>\n",
       "    <tr style=\"text-align: right;\">\n",
       "      <th></th>\n",
       "      <th>budget</th>\n",
       "      <th>genres</th>\n",
       "      <th>homepage</th>\n",
       "      <th>id</th>\n",
       "      <th>keywords</th>\n",
       "      <th>original_language</th>\n",
       "      <th>original_title</th>\n",
       "      <th>overview</th>\n",
       "      <th>popularity</th>\n",
       "      <th>production_companies</th>\n",
       "      <th>production_countries</th>\n",
       "      <th>release_date</th>\n",
       "      <th>revenue</th>\n",
       "      <th>runtime</th>\n",
       "      <th>spoken_languages</th>\n",
       "      <th>status</th>\n",
       "      <th>tagline</th>\n",
       "      <th>title</th>\n",
       "      <th>vote_average</th>\n",
       "      <th>vote_count</th>\n",
       "    </tr>\n",
       "  </thead>\n",
       "  <tbody>\n",
       "    <tr>\n",
       "      <th>3133</th>\n",
       "      <td>10000000</td>\n",
       "      <td>[{\"id\": 28, \"name\": \"Action\"}, {\"id\": 27, \"nam...</td>\n",
       "      <td>NaN</td>\n",
       "      <td>17577</td>\n",
       "      <td>[{\"id\": 187820, \"name\": \"duct tape gag\"}, {\"id...</td>\n",
       "      <td>en</td>\n",
       "      <td>The Devil's Tomb</td>\n",
       "      <td>Captain Mack leads an elite military unit on a...</td>\n",
       "      <td>5.099472</td>\n",
       "      <td>[{\"name\": \"Ice Cold Productions\", \"id\": 3336},...</td>\n",
       "      <td>[{\"iso_3166_1\": \"US\", \"name\": \"United States o...</td>\n",
       "      <td>2009-05-26</td>\n",
       "      <td>0</td>\n",
       "      <td>90.0</td>\n",
       "      <td>[{\"iso_639_1\": \"en\", \"name\": \"English\"}]</td>\n",
       "      <td>Released</td>\n",
       "      <td>An evil entombed for 2000 years... until now.</td>\n",
       "      <td>The Devil's Tomb</td>\n",
       "      <td>4.0</td>\n",
       "      <td>53</td>\n",
       "    </tr>\n",
       "    <tr>\n",
       "      <th>642</th>\n",
       "      <td>65000000</td>\n",
       "      <td>[{\"id\": 18, \"name\": \"Drama\"}, {\"id\": 10752, \"n...</td>\n",
       "      <td>http://www.unbrokenfilm.com/</td>\n",
       "      <td>227306</td>\n",
       "      <td>[{\"id\": 1956, \"name\": \"world war ii\"}, {\"id\": ...</td>\n",
       "      <td>en</td>\n",
       "      <td>Unbroken</td>\n",
       "      <td>A chronicle of the life of Louis Zamperini, an...</td>\n",
       "      <td>43.055253</td>\n",
       "      <td>[{\"name\": \"Legendary Pictures\", \"id\": 923}, {\"...</td>\n",
       "      <td>[{\"iso_3166_1\": \"US\", \"name\": \"United States o...</td>\n",
       "      <td>2014-12-25</td>\n",
       "      <td>163442937</td>\n",
       "      <td>137.0</td>\n",
       "      <td>[{\"iso_639_1\": \"it\", \"name\": \"Italiano\"}, {\"is...</td>\n",
       "      <td>Released</td>\n",
       "      <td>Survival. Resilience. Redemption.</td>\n",
       "      <td>Unbroken</td>\n",
       "      <td>7.3</td>\n",
       "      <td>1400</td>\n",
       "    </tr>\n",
       "    <tr>\n",
       "      <th>4789</th>\n",
       "      <td>0</td>\n",
       "      <td>[{\"id\": 18, \"name\": \"Drama\"}]</td>\n",
       "      <td>NaN</td>\n",
       "      <td>39851</td>\n",
       "      <td>[{\"id\": 6782, \"name\": \"addiction\"}, {\"id\": 155...</td>\n",
       "      <td>en</td>\n",
       "      <td>Clean</td>\n",
       "      <td>After losing her husband to a heroin overdose,...</td>\n",
       "      <td>1.464566</td>\n",
       "      <td>[]</td>\n",
       "      <td>[{\"iso_3166_1\": \"GB\", \"name\": \"United Kingdom\"...</td>\n",
       "      <td>2004-09-01</td>\n",
       "      <td>0</td>\n",
       "      <td>111.0</td>\n",
       "      <td>[{\"iso_639_1\": \"cn\", \"name\": \"\\u5e7f\\u5dde\\u8b...</td>\n",
       "      <td>Released</td>\n",
       "      <td>When you don't have a choice, you change.</td>\n",
       "      <td>Clean</td>\n",
       "      <td>6.7</td>\n",
       "      <td>17</td>\n",
       "    </tr>\n",
       "    <tr>\n",
       "      <th>3110</th>\n",
       "      <td>0</td>\n",
       "      <td>[{\"id\": 18, \"name\": \"Drama\"}]</td>\n",
       "      <td>http://www.welcometotherileys-movie.com/</td>\n",
       "      <td>31007</td>\n",
       "      <td>[{\"id\": 549, \"name\": \"prostitute\"}, {\"id\": 570...</td>\n",
       "      <td>en</td>\n",
       "      <td>Welcome to the Rileys</td>\n",
       "      <td>Years after their teenage daughter’s death, Lo...</td>\n",
       "      <td>6.085879</td>\n",
       "      <td>[{\"name\": \"Destination Films\", \"id\": 769}, {\"n...</td>\n",
       "      <td>[{\"iso_3166_1\": \"US\", \"name\": \"United States o...</td>\n",
       "      <td>2010-10-29</td>\n",
       "      <td>42145</td>\n",
       "      <td>110.0</td>\n",
       "      <td>[{\"iso_639_1\": \"en\", \"name\": \"English\"}]</td>\n",
       "      <td>Released</td>\n",
       "      <td>NaN</td>\n",
       "      <td>Welcome to the Rileys</td>\n",
       "      <td>6.4</td>\n",
       "      <td>139</td>\n",
       "    </tr>\n",
       "    <tr>\n",
       "      <th>2455</th>\n",
       "      <td>16000000</td>\n",
       "      <td>[{\"id\": 35, \"name\": \"Comedy\"}, {\"id\": 10749, \"...</td>\n",
       "      <td>NaN</td>\n",
       "      <td>639</td>\n",
       "      <td>[{\"id\": 242, \"name\": \"new york\"}, {\"id\": 1157,...</td>\n",
       "      <td>en</td>\n",
       "      <td>When Harry Met Sally...</td>\n",
       "      <td>During their travels from Chicago to New York,...</td>\n",
       "      <td>18.430419</td>\n",
       "      <td>[{\"name\": \"Castle Rock Entertainment\", \"id\": 9...</td>\n",
       "      <td>[{\"iso_3166_1\": \"US\", \"name\": \"United States o...</td>\n",
       "      <td>1989-07-21</td>\n",
       "      <td>92823546</td>\n",
       "      <td>96.0</td>\n",
       "      <td>[{\"iso_639_1\": \"en\", \"name\": \"English\"}]</td>\n",
       "      <td>Released</td>\n",
       "      <td>Can two friends sleep together and still love ...</td>\n",
       "      <td>When Harry Met Sally...</td>\n",
       "      <td>7.3</td>\n",
       "      <td>950</td>\n",
       "    </tr>\n",
       "  </tbody>\n",
       "</table>\n",
       "</div>"
      ],
      "text/plain": [
       "        budget                                             genres  \\\n",
       "3133  10000000  [{\"id\": 28, \"name\": \"Action\"}, {\"id\": 27, \"nam...   \n",
       "642   65000000  [{\"id\": 18, \"name\": \"Drama\"}, {\"id\": 10752, \"n...   \n",
       "4789         0                      [{\"id\": 18, \"name\": \"Drama\"}]   \n",
       "3110         0                      [{\"id\": 18, \"name\": \"Drama\"}]   \n",
       "2455  16000000  [{\"id\": 35, \"name\": \"Comedy\"}, {\"id\": 10749, \"...   \n",
       "\n",
       "                                      homepage      id  \\\n",
       "3133                                       NaN   17577   \n",
       "642               http://www.unbrokenfilm.com/  227306   \n",
       "4789                                       NaN   39851   \n",
       "3110  http://www.welcometotherileys-movie.com/   31007   \n",
       "2455                                       NaN     639   \n",
       "\n",
       "                                               keywords original_language  \\\n",
       "3133  [{\"id\": 187820, \"name\": \"duct tape gag\"}, {\"id...                en   \n",
       "642   [{\"id\": 1956, \"name\": \"world war ii\"}, {\"id\": ...                en   \n",
       "4789  [{\"id\": 6782, \"name\": \"addiction\"}, {\"id\": 155...                en   \n",
       "3110  [{\"id\": 549, \"name\": \"prostitute\"}, {\"id\": 570...                en   \n",
       "2455  [{\"id\": 242, \"name\": \"new york\"}, {\"id\": 1157,...                en   \n",
       "\n",
       "               original_title  \\\n",
       "3133         The Devil's Tomb   \n",
       "642                  Unbroken   \n",
       "4789                    Clean   \n",
       "3110    Welcome to the Rileys   \n",
       "2455  When Harry Met Sally...   \n",
       "\n",
       "                                               overview  popularity  \\\n",
       "3133  Captain Mack leads an elite military unit on a...    5.099472   \n",
       "642   A chronicle of the life of Louis Zamperini, an...   43.055253   \n",
       "4789  After losing her husband to a heroin overdose,...    1.464566   \n",
       "3110  Years after their teenage daughter’s death, Lo...    6.085879   \n",
       "2455  During their travels from Chicago to New York,...   18.430419   \n",
       "\n",
       "                                   production_companies  \\\n",
       "3133  [{\"name\": \"Ice Cold Productions\", \"id\": 3336},...   \n",
       "642   [{\"name\": \"Legendary Pictures\", \"id\": 923}, {\"...   \n",
       "4789                                                 []   \n",
       "3110  [{\"name\": \"Destination Films\", \"id\": 769}, {\"n...   \n",
       "2455  [{\"name\": \"Castle Rock Entertainment\", \"id\": 9...   \n",
       "\n",
       "                                   production_countries release_date  \\\n",
       "3133  [{\"iso_3166_1\": \"US\", \"name\": \"United States o...   2009-05-26   \n",
       "642   [{\"iso_3166_1\": \"US\", \"name\": \"United States o...   2014-12-25   \n",
       "4789  [{\"iso_3166_1\": \"GB\", \"name\": \"United Kingdom\"...   2004-09-01   \n",
       "3110  [{\"iso_3166_1\": \"US\", \"name\": \"United States o...   2010-10-29   \n",
       "2455  [{\"iso_3166_1\": \"US\", \"name\": \"United States o...   1989-07-21   \n",
       "\n",
       "        revenue  runtime                                   spoken_languages  \\\n",
       "3133          0     90.0           [{\"iso_639_1\": \"en\", \"name\": \"English\"}]   \n",
       "642   163442937    137.0  [{\"iso_639_1\": \"it\", \"name\": \"Italiano\"}, {\"is...   \n",
       "4789          0    111.0  [{\"iso_639_1\": \"cn\", \"name\": \"\\u5e7f\\u5dde\\u8b...   \n",
       "3110      42145    110.0           [{\"iso_639_1\": \"en\", \"name\": \"English\"}]   \n",
       "2455   92823546     96.0           [{\"iso_639_1\": \"en\", \"name\": \"English\"}]   \n",
       "\n",
       "        status                                            tagline  \\\n",
       "3133  Released      An evil entombed for 2000 years... until now.   \n",
       "642   Released                  Survival. Resilience. Redemption.   \n",
       "4789  Released          When you don't have a choice, you change.   \n",
       "3110  Released                                                NaN   \n",
       "2455  Released  Can two friends sleep together and still love ...   \n",
       "\n",
       "                        title  vote_average  vote_count  \n",
       "3133         The Devil's Tomb           4.0          53  \n",
       "642                  Unbroken           7.3        1400  \n",
       "4789                    Clean           6.7          17  \n",
       "3110    Welcome to the Rileys           6.4         139  \n",
       "2455  When Harry Met Sally...           7.3         950  "
      ]
     },
     "execution_count": 3,
     "metadata": {},
     "output_type": "execute_result"
    }
   ],
   "source": [
    "#Reading and previewing csv document\n",
    "df = pd.read_csv(\"/home/opejoseph/Documents/ALX Assignments/tmdb_5000_movies.csv\")\n",
    "df.sample(5)\n"
   ]
  },
  {
   "cell_type": "code",
   "execution_count": 4,
   "metadata": {},
   "outputs": [
    {
     "data": {
      "text/html": [
       "<div>\n",
       "<style scoped>\n",
       "    .dataframe tbody tr th:only-of-type {\n",
       "        vertical-align: middle;\n",
       "    }\n",
       "\n",
       "    .dataframe tbody tr th {\n",
       "        vertical-align: top;\n",
       "    }\n",
       "\n",
       "    .dataframe thead th {\n",
       "        text-align: right;\n",
       "    }\n",
       "</style>\n",
       "<table border=\"1\" class=\"dataframe\">\n",
       "  <thead>\n",
       "    <tr style=\"text-align: right;\">\n",
       "      <th></th>\n",
       "      <th>budget</th>\n",
       "      <th>id</th>\n",
       "      <th>popularity</th>\n",
       "      <th>revenue</th>\n",
       "      <th>runtime</th>\n",
       "      <th>vote_average</th>\n",
       "      <th>vote_count</th>\n",
       "    </tr>\n",
       "  </thead>\n",
       "  <tbody>\n",
       "    <tr>\n",
       "      <th>count</th>\n",
       "      <td>4.803000e+03</td>\n",
       "      <td>4803.000000</td>\n",
       "      <td>4803.000000</td>\n",
       "      <td>4.803000e+03</td>\n",
       "      <td>4801.000000</td>\n",
       "      <td>4803.000000</td>\n",
       "      <td>4803.000000</td>\n",
       "    </tr>\n",
       "    <tr>\n",
       "      <th>mean</th>\n",
       "      <td>2.904504e+07</td>\n",
       "      <td>57165.484281</td>\n",
       "      <td>21.492301</td>\n",
       "      <td>8.226064e+07</td>\n",
       "      <td>106.875859</td>\n",
       "      <td>6.092172</td>\n",
       "      <td>690.217989</td>\n",
       "    </tr>\n",
       "    <tr>\n",
       "      <th>std</th>\n",
       "      <td>4.072239e+07</td>\n",
       "      <td>88694.614033</td>\n",
       "      <td>31.816650</td>\n",
       "      <td>1.628571e+08</td>\n",
       "      <td>22.611935</td>\n",
       "      <td>1.194612</td>\n",
       "      <td>1234.585891</td>\n",
       "    </tr>\n",
       "    <tr>\n",
       "      <th>min</th>\n",
       "      <td>0.000000e+00</td>\n",
       "      <td>5.000000</td>\n",
       "      <td>0.000000</td>\n",
       "      <td>0.000000e+00</td>\n",
       "      <td>0.000000</td>\n",
       "      <td>0.000000</td>\n",
       "      <td>0.000000</td>\n",
       "    </tr>\n",
       "    <tr>\n",
       "      <th>25%</th>\n",
       "      <td>7.900000e+05</td>\n",
       "      <td>9014.500000</td>\n",
       "      <td>4.668070</td>\n",
       "      <td>0.000000e+00</td>\n",
       "      <td>94.000000</td>\n",
       "      <td>5.600000</td>\n",
       "      <td>54.000000</td>\n",
       "    </tr>\n",
       "    <tr>\n",
       "      <th>50%</th>\n",
       "      <td>1.500000e+07</td>\n",
       "      <td>14629.000000</td>\n",
       "      <td>12.921594</td>\n",
       "      <td>1.917000e+07</td>\n",
       "      <td>103.000000</td>\n",
       "      <td>6.200000</td>\n",
       "      <td>235.000000</td>\n",
       "    </tr>\n",
       "    <tr>\n",
       "      <th>75%</th>\n",
       "      <td>4.000000e+07</td>\n",
       "      <td>58610.500000</td>\n",
       "      <td>28.313505</td>\n",
       "      <td>9.291719e+07</td>\n",
       "      <td>118.000000</td>\n",
       "      <td>6.800000</td>\n",
       "      <td>737.000000</td>\n",
       "    </tr>\n",
       "    <tr>\n",
       "      <th>max</th>\n",
       "      <td>3.800000e+08</td>\n",
       "      <td>459488.000000</td>\n",
       "      <td>875.581305</td>\n",
       "      <td>2.787965e+09</td>\n",
       "      <td>338.000000</td>\n",
       "      <td>10.000000</td>\n",
       "      <td>13752.000000</td>\n",
       "    </tr>\n",
       "  </tbody>\n",
       "</table>\n",
       "</div>"
      ],
      "text/plain": [
       "             budget             id   popularity       revenue      runtime  \\\n",
       "count  4.803000e+03    4803.000000  4803.000000  4.803000e+03  4801.000000   \n",
       "mean   2.904504e+07   57165.484281    21.492301  8.226064e+07   106.875859   \n",
       "std    4.072239e+07   88694.614033    31.816650  1.628571e+08    22.611935   \n",
       "min    0.000000e+00       5.000000     0.000000  0.000000e+00     0.000000   \n",
       "25%    7.900000e+05    9014.500000     4.668070  0.000000e+00    94.000000   \n",
       "50%    1.500000e+07   14629.000000    12.921594  1.917000e+07   103.000000   \n",
       "75%    4.000000e+07   58610.500000    28.313505  9.291719e+07   118.000000   \n",
       "max    3.800000e+08  459488.000000   875.581305  2.787965e+09   338.000000   \n",
       "\n",
       "       vote_average    vote_count  \n",
       "count   4803.000000   4803.000000  \n",
       "mean       6.092172    690.217989  \n",
       "std        1.194612   1234.585891  \n",
       "min        0.000000      0.000000  \n",
       "25%        5.600000     54.000000  \n",
       "50%        6.200000    235.000000  \n",
       "75%        6.800000    737.000000  \n",
       "max       10.000000  13752.000000  "
      ]
     },
     "execution_count": 4,
     "metadata": {},
     "output_type": "execute_result"
    }
   ],
   "source": [
    "#Checking the statistical distribution across the fields\n",
    "df.describe()"
   ]
  },
  {
   "cell_type": "markdown",
   "metadata": {},
   "source": [
    "### Replacing the \"0\" values in budget column with the mean. Assuming the correct budget was not entered. Same would be done for other columns of interest;  popularity, revenue, runtime,vote_average and vote_count."
   ]
  },
  {
   "cell_type": "code",
   "execution_count": 5,
   "metadata": {},
   "outputs": [],
   "source": [
    "#creating a new data frame \"df_cleaner\" to hold deal with the \"0\" values in budget, popularity, revenue, runtime,vote_average and vote_count by replacing them by the mean.\n",
    "df_cleaner = df[~(df[[\"budget\", \"id\", \"popularity\", \"revenue\", \"runtime\"]] < 0.000000).all(axis=1)]"
   ]
  },
  {
   "cell_type": "code",
   "execution_count": null,
   "metadata": {},
   "outputs": [],
   "source": []
  },
  {
   "cell_type": "code",
   "execution_count": 6,
   "metadata": {},
   "outputs": [],
   "source": [
    "#replacing the 0 values in budget column with the mean.\n",
    "df_cleaner['budget'].replace(to_replace = 0, value = df_cleaner['budget'].mean(), inplace=True)\n",
    "df_cleaner['popularity'].replace(to_replace = 0, value = df_cleaner['popularity'].mean(), inplace=True)\n",
    "df_cleaner['revenue'].replace(to_replace = 0, value = df_cleaner['revenue'].mean(), inplace=True)\n",
    "df_cleaner['revenue'].replace(to_replace = 0, value = df_cleaner['revenue'].mean(), inplace=True)\n",
    "df_cleaner['runtime'].replace(to_replace = 0, value = df_cleaner['runtime'].mean(), inplace=True)\n",
    "df_cleaner['vote_average'].replace(to_replace = 0, value = df_cleaner['vote_average'].mean(), inplace=True)\n",
    "df_cleaner['vote_count'].replace(to_replace = 0, value = df_cleaner['vote_count'].mean(), inplace=True)"
   ]
  },
  {
   "cell_type": "code",
   "execution_count": 7,
   "metadata": {},
   "outputs": [
    {
     "name": "stdout",
     "output_type": "stream",
     "text": [
      "<class 'pandas.core.frame.DataFrame'>\n",
      "Int64Index: 4803 entries, 0 to 4802\n",
      "Data columns (total 20 columns):\n",
      " #   Column                Non-Null Count  Dtype  \n",
      "---  ------                --------------  -----  \n",
      " 0   budget                4803 non-null   float64\n",
      " 1   genres                4803 non-null   object \n",
      " 2   homepage              1712 non-null   object \n",
      " 3   id                    4803 non-null   int64  \n",
      " 4   keywords              4803 non-null   object \n",
      " 5   original_language     4803 non-null   object \n",
      " 6   original_title        4803 non-null   object \n",
      " 7   overview              4800 non-null   object \n",
      " 8   popularity            4803 non-null   float64\n",
      " 9   production_companies  4803 non-null   object \n",
      " 10  production_countries  4803 non-null   object \n",
      " 11  release_date          4802 non-null   object \n",
      " 12  revenue               4803 non-null   float64\n",
      " 13  runtime               4801 non-null   float64\n",
      " 14  spoken_languages      4803 non-null   object \n",
      " 15  status                4803 non-null   object \n",
      " 16  tagline               3959 non-null   object \n",
      " 17  title                 4803 non-null   object \n",
      " 18  vote_average          4803 non-null   float64\n",
      " 19  vote_count            4803 non-null   float64\n",
      "dtypes: float64(6), int64(1), object(13)\n",
      "memory usage: 788.0+ KB\n"
     ]
    }
   ],
   "source": [
    "df_cleaner.info()"
   ]
  },
  {
   "cell_type": "code",
   "execution_count": 8,
   "metadata": {},
   "outputs": [
    {
     "data": {
      "text/plain": [
       "budget                     0\n",
       "genres                     0\n",
       "homepage                3091\n",
       "id                         0\n",
       "keywords                   0\n",
       "original_language          0\n",
       "original_title             0\n",
       "overview                   3\n",
       "popularity                 0\n",
       "production_companies       0\n",
       "production_countries       0\n",
       "release_date               1\n",
       "revenue                    0\n",
       "runtime                    2\n",
       "spoken_languages           0\n",
       "status                     0\n",
       "tagline                  844\n",
       "title                      0\n",
       "vote_average               0\n",
       "vote_count                 0\n",
       "dtype: int64"
      ]
     },
     "execution_count": 8,
     "metadata": {},
     "output_type": "execute_result"
    }
   ],
   "source": [
    "\n",
    "#checking for missing value column\n",
    "df_cleaner.isnull().sum()"
   ]
  },
  {
   "cell_type": "code",
   "execution_count": 33,
   "metadata": {},
   "outputs": [],
   "source": [
    "#dropping homepage and timeline since it is not needed and has missing values, release date and runtime is left because their number is not more than 2\n",
    "df_final = df_cleaner.drop(['homepage', 'tagline','overview'], axis=1)"
   ]
  },
  {
   "cell_type": "code",
   "execution_count": 10,
   "metadata": {},
   "outputs": [
    {
     "data": {
      "text/plain": [
       "budget                  0\n",
       "genres                  0\n",
       "id                      0\n",
       "keywords                0\n",
       "original_language       0\n",
       "original_title          0\n",
       "popularity              0\n",
       "production_companies    0\n",
       "production_countries    0\n",
       "release_date            1\n",
       "revenue                 0\n",
       "runtime                 2\n",
       "spoken_languages        0\n",
       "status                  0\n",
       "title                   0\n",
       "vote_average            0\n",
       "vote_count              0\n",
       "dtype: int64"
      ]
     },
     "execution_count": 10,
     "metadata": {},
     "output_type": "execute_result"
    }
   ],
   "source": [
    "#confirming the dropped columns\n",
    "df_final.isnull().sum()"
   ]
  },
  {
   "cell_type": "code",
   "execution_count": 11,
   "metadata": {},
   "outputs": [
    {
     "data": {
      "text/html": [
       "<div>\n",
       "<style scoped>\n",
       "    .dataframe tbody tr th:only-of-type {\n",
       "        vertical-align: middle;\n",
       "    }\n",
       "\n",
       "    .dataframe tbody tr th {\n",
       "        vertical-align: top;\n",
       "    }\n",
       "\n",
       "    .dataframe thead th {\n",
       "        text-align: right;\n",
       "    }\n",
       "</style>\n",
       "<table border=\"1\" class=\"dataframe\">\n",
       "  <thead>\n",
       "    <tr style=\"text-align: right;\">\n",
       "      <th></th>\n",
       "      <th>budget</th>\n",
       "      <th>id</th>\n",
       "      <th>popularity</th>\n",
       "      <th>revenue</th>\n",
       "      <th>runtime</th>\n",
       "      <th>vote_average</th>\n",
       "      <th>vote_count</th>\n",
       "    </tr>\n",
       "  </thead>\n",
       "  <tbody>\n",
       "    <tr>\n",
       "      <th>count</th>\n",
       "      <td>4.803000e+03</td>\n",
       "      <td>4803.000000</td>\n",
       "      <td>4803.000000</td>\n",
       "      <td>4.803000e+03</td>\n",
       "      <td>4801.000000</td>\n",
       "      <td>4803.000000</td>\n",
       "      <td>4803.000000</td>\n",
       "    </tr>\n",
       "    <tr>\n",
       "      <th>mean</th>\n",
       "      <td>3.531606e+07</td>\n",
       "      <td>57165.484281</td>\n",
       "      <td>21.496775</td>\n",
       "      <td>1.067008e+08</td>\n",
       "      <td>107.655000</td>\n",
       "      <td>6.172081</td>\n",
       "      <td>699.127736</td>\n",
       "    </tr>\n",
       "    <tr>\n",
       "      <th>std</th>\n",
       "      <td>3.790514e+07</td>\n",
       "      <td>88694.614033</td>\n",
       "      <td>31.815138</td>\n",
       "      <td>1.546419e+08</td>\n",
       "      <td>20.673744</td>\n",
       "      <td>0.966326</td>\n",
       "      <td>1232.060053</td>\n",
       "    </tr>\n",
       "    <tr>\n",
       "      <th>min</th>\n",
       "      <td>1.000000e+00</td>\n",
       "      <td>5.000000</td>\n",
       "      <td>0.000372</td>\n",
       "      <td>5.000000e+00</td>\n",
       "      <td>14.000000</td>\n",
       "      <td>0.500000</td>\n",
       "      <td>1.000000</td>\n",
       "    </tr>\n",
       "    <tr>\n",
       "      <th>25%</th>\n",
       "      <td>1.200000e+07</td>\n",
       "      <td>9014.500000</td>\n",
       "      <td>4.674558</td>\n",
       "      <td>2.760697e+07</td>\n",
       "      <td>94.000000</td>\n",
       "      <td>5.600000</td>\n",
       "      <td>59.000000</td>\n",
       "    </tr>\n",
       "    <tr>\n",
       "      <th>50%</th>\n",
       "      <td>2.904504e+07</td>\n",
       "      <td>14629.000000</td>\n",
       "      <td>12.928269</td>\n",
       "      <td>8.226064e+07</td>\n",
       "      <td>104.000000</td>\n",
       "      <td>6.200000</td>\n",
       "      <td>250.000000</td>\n",
       "    </tr>\n",
       "    <tr>\n",
       "      <th>75%</th>\n",
       "      <td>4.000000e+07</td>\n",
       "      <td>58610.500000</td>\n",
       "      <td>28.313505</td>\n",
       "      <td>9.291719e+07</td>\n",
       "      <td>118.000000</td>\n",
       "      <td>6.800000</td>\n",
       "      <td>737.000000</td>\n",
       "    </tr>\n",
       "    <tr>\n",
       "      <th>max</th>\n",
       "      <td>3.800000e+08</td>\n",
       "      <td>459488.000000</td>\n",
       "      <td>875.581305</td>\n",
       "      <td>2.787965e+09</td>\n",
       "      <td>338.000000</td>\n",
       "      <td>10.000000</td>\n",
       "      <td>13752.000000</td>\n",
       "    </tr>\n",
       "  </tbody>\n",
       "</table>\n",
       "</div>"
      ],
      "text/plain": [
       "             budget             id   popularity       revenue      runtime  \\\n",
       "count  4.803000e+03    4803.000000  4803.000000  4.803000e+03  4801.000000   \n",
       "mean   3.531606e+07   57165.484281    21.496775  1.067008e+08   107.655000   \n",
       "std    3.790514e+07   88694.614033    31.815138  1.546419e+08    20.673744   \n",
       "min    1.000000e+00       5.000000     0.000372  5.000000e+00    14.000000   \n",
       "25%    1.200000e+07    9014.500000     4.674558  2.760697e+07    94.000000   \n",
       "50%    2.904504e+07   14629.000000    12.928269  8.226064e+07   104.000000   \n",
       "75%    4.000000e+07   58610.500000    28.313505  9.291719e+07   118.000000   \n",
       "max    3.800000e+08  459488.000000   875.581305  2.787965e+09   338.000000   \n",
       "\n",
       "       vote_average    vote_count  \n",
       "count   4803.000000   4803.000000  \n",
       "mean       6.172081    699.127736  \n",
       "std        0.966326   1232.060053  \n",
       "min        0.500000      1.000000  \n",
       "25%        5.600000     59.000000  \n",
       "50%        6.200000    250.000000  \n",
       "75%        6.800000    737.000000  \n",
       "max       10.000000  13752.000000  "
      ]
     },
     "execution_count": 11,
     "metadata": {},
     "output_type": "execute_result"
    }
   ],
   "source": [
    "#the min attribute of the describe method shows that the 0 values have been replace\n",
    "df_final.describe()"
   ]
  },
  {
   "cell_type": "markdown",
   "metadata": {},
   "source": [
    "## From the describe and info method we can see that:\n",
    "  ## Now after cleaning, the dataset contains 4803 records. The highest value of budgetted for any movie is 308 million, while the lowest value is approximately 1 million. The mean amount budgetted is about thirty-five million.\n",
    "  \n",
    "  ## The highest value of popularity  for any movie is about four hundred and fifty-nine thousand, four hundred and eighty-eight while the minimum is 0.000372, while the lowest value is approximately 1 million. The mean amount budgetted is about thirty-five million.\n",
    "  \n",
    "  ## The highest value of revenue  for any movie is about 5 dollars,which does not look correct enough but i am limited by the dataset given. The maximum revenue is  two billion seven hundred eighty-seven million nine hundred sixty-five thousand , The mean amount revenue is about one hundred six million seven hundred thousand eight hundred\n",
    "  \n",
    "  ## The longest runtime  for any movie is three-hundred and thirty eight minutes, t while the minimum is fourteen minutes. The mean amount of runtime is about a hundred and seven minutes with some seconds."
   ]
  },
  {
   "cell_type": "markdown",
   "metadata": {},
   "source": [
    "# 0. Insights from the Top 10 Budgetted Movies"
   ]
  },
  {
   "cell_type": "code",
   "execution_count": 34,
   "metadata": {},
   "outputs": [
    {
     "data": {
      "text/html": [
       "<div>\n",
       "<style scoped>\n",
       "    .dataframe tbody tr th:only-of-type {\n",
       "        vertical-align: middle;\n",
       "    }\n",
       "\n",
       "    .dataframe tbody tr th {\n",
       "        vertical-align: top;\n",
       "    }\n",
       "\n",
       "    .dataframe thead th {\n",
       "        text-align: right;\n",
       "    }\n",
       "</style>\n",
       "<table border=\"1\" class=\"dataframe\">\n",
       "  <thead>\n",
       "    <tr style=\"text-align: right;\">\n",
       "      <th></th>\n",
       "      <th>budget</th>\n",
       "      <th>id</th>\n",
       "      <th>popularity</th>\n",
       "      <th>revenue</th>\n",
       "      <th>runtime</th>\n",
       "      <th>vote_average</th>\n",
       "      <th>vote_count</th>\n",
       "    </tr>\n",
       "  </thead>\n",
       "  <tbody>\n",
       "    <tr>\n",
       "      <th>count</th>\n",
       "      <td>4.803000e+03</td>\n",
       "      <td>4803.000000</td>\n",
       "      <td>4803.000000</td>\n",
       "      <td>4.803000e+03</td>\n",
       "      <td>4801.000000</td>\n",
       "      <td>4803.000000</td>\n",
       "      <td>4803.000000</td>\n",
       "    </tr>\n",
       "    <tr>\n",
       "      <th>mean</th>\n",
       "      <td>3.531606e+07</td>\n",
       "      <td>57165.484281</td>\n",
       "      <td>21.496775</td>\n",
       "      <td>1.067008e+08</td>\n",
       "      <td>107.655000</td>\n",
       "      <td>6.172081</td>\n",
       "      <td>699.127736</td>\n",
       "    </tr>\n",
       "    <tr>\n",
       "      <th>std</th>\n",
       "      <td>3.790514e+07</td>\n",
       "      <td>88694.614033</td>\n",
       "      <td>31.815138</td>\n",
       "      <td>1.546419e+08</td>\n",
       "      <td>20.673744</td>\n",
       "      <td>0.966326</td>\n",
       "      <td>1232.060053</td>\n",
       "    </tr>\n",
       "    <tr>\n",
       "      <th>min</th>\n",
       "      <td>1.000000e+00</td>\n",
       "      <td>5.000000</td>\n",
       "      <td>0.000372</td>\n",
       "      <td>5.000000e+00</td>\n",
       "      <td>14.000000</td>\n",
       "      <td>0.500000</td>\n",
       "      <td>1.000000</td>\n",
       "    </tr>\n",
       "    <tr>\n",
       "      <th>25%</th>\n",
       "      <td>1.200000e+07</td>\n",
       "      <td>9014.500000</td>\n",
       "      <td>4.674558</td>\n",
       "      <td>2.760697e+07</td>\n",
       "      <td>94.000000</td>\n",
       "      <td>5.600000</td>\n",
       "      <td>59.000000</td>\n",
       "    </tr>\n",
       "    <tr>\n",
       "      <th>50%</th>\n",
       "      <td>2.904504e+07</td>\n",
       "      <td>14629.000000</td>\n",
       "      <td>12.928269</td>\n",
       "      <td>8.226064e+07</td>\n",
       "      <td>104.000000</td>\n",
       "      <td>6.200000</td>\n",
       "      <td>250.000000</td>\n",
       "    </tr>\n",
       "    <tr>\n",
       "      <th>75%</th>\n",
       "      <td>4.000000e+07</td>\n",
       "      <td>58610.500000</td>\n",
       "      <td>28.313505</td>\n",
       "      <td>9.291719e+07</td>\n",
       "      <td>118.000000</td>\n",
       "      <td>6.800000</td>\n",
       "      <td>737.000000</td>\n",
       "    </tr>\n",
       "    <tr>\n",
       "      <th>max</th>\n",
       "      <td>3.800000e+08</td>\n",
       "      <td>459488.000000</td>\n",
       "      <td>875.581305</td>\n",
       "      <td>2.787965e+09</td>\n",
       "      <td>338.000000</td>\n",
       "      <td>10.000000</td>\n",
       "      <td>13752.000000</td>\n",
       "    </tr>\n",
       "  </tbody>\n",
       "</table>\n",
       "</div>"
      ],
      "text/plain": [
       "             budget             id   popularity       revenue      runtime  \\\n",
       "count  4.803000e+03    4803.000000  4803.000000  4.803000e+03  4801.000000   \n",
       "mean   3.531606e+07   57165.484281    21.496775  1.067008e+08   107.655000   \n",
       "std    3.790514e+07   88694.614033    31.815138  1.546419e+08    20.673744   \n",
       "min    1.000000e+00       5.000000     0.000372  5.000000e+00    14.000000   \n",
       "25%    1.200000e+07    9014.500000     4.674558  2.760697e+07    94.000000   \n",
       "50%    2.904504e+07   14629.000000    12.928269  8.226064e+07   104.000000   \n",
       "75%    4.000000e+07   58610.500000    28.313505  9.291719e+07   118.000000   \n",
       "max    3.800000e+08  459488.000000   875.581305  2.787965e+09   338.000000   \n",
       "\n",
       "       vote_average    vote_count  \n",
       "count   4803.000000   4803.000000  \n",
       "mean       6.172081    699.127736  \n",
       "std        0.966326   1232.060053  \n",
       "min        0.500000      1.000000  \n",
       "25%        5.600000     59.000000  \n",
       "50%        6.200000    250.000000  \n",
       "75%        6.800000    737.000000  \n",
       "max       10.000000  13752.000000  "
      ]
     },
     "execution_count": 34,
     "metadata": {},
     "output_type": "execute_result"
    }
   ],
   "source": [
    "df_final.describe()"
   ]
  },
  {
   "cell_type": "code",
   "execution_count": 30,
   "metadata": {},
   "outputs": [],
   "source": [
    "# defining bar plot function\n",
    "def plot_bar(x, y, title=\"\", xlabel=\"\", ylabel=\"\", rotation=0, width=0.8):\n",
    "    \n",
    "    plt.figure(figsize=(9,6)) \n",
    "\n",
    "    bar_list = plt.bar(x, y, color=\"#87CEEB\", edgecolor=\"k\", width=width)\n",
    "\n",
    "\n",
    "    plt.title(title,\n",
    "              fontsize=18)\n",
    "    \n",
    "    plt.xlabel(xlabel,\n",
    "               fontsize=15)\n",
    "    \n",
    "    plt.ylabel(ylabel,\n",
    "               fontsize=15)\n",
    "\n",
    "    return plt.show()"
   ]
  },
  {
   "cell_type": "code",
   "execution_count": 32,
   "metadata": {},
   "outputs": [
    {
     "data": {
      "image/png": "[encoded data removed]",
      "text/plain": [
       "<Figure size 900x600 with 1 Axes>"
      ]
     },
     "metadata": {},
     "output_type": "display_data"
    }
   ],
   "source": [
    "# plot language categories\n",
    "language_types = pd.DataFrame(df_final.original_language.value_counts())\n",
    "\n",
    "plot_bar(language_types.index,\n",
    "         language_types.original_language,\n",
    "         width=0.25, \n",
    "         title=\"Language Category\", \n",
    "         ylabel=\"Count\")"
   ]
  },
  {
   "cell_type": "markdown",
   "metadata": {},
   "source": [
    "### kde plot shows the probability density for budgets distribution, there is a prominence between 0.0 and 0.5"
   ]
  },
  {
   "cell_type": "code",
   "execution_count": 35,
   "metadata": {},
   "outputs": [
    {
     "data": {
      "text/plain": [
       "<AxesSubplot:xlabel='budget', ylabel='Density'>"
      ]
     },
     "execution_count": 35,
     "metadata": {},
     "output_type": "execute_result"
    },
    {
     "data": {
      "image/png": "[encoded data removed]",
      "text/plain": [
       "<Figure size 640x480 with 1 Axes>"
      ]
     },
     "metadata": {},
     "output_type": "display_data"
    }
   ],
   "source": [
    "#KDE Plot\n",
    "sns.kdeplot(data=df_final, x=\"budget\", bw_adjust=.2)"
   ]
  },
  {
   "cell_type": "code",
   "execution_count": 15,
   "metadata": {},
   "outputs": [
    {
     "data": {
      "image/png": "[encoded data removed]",
      "text/plain": [
       "<Figure size 640x480 with 1 Axes>"
      ]
     },
     "metadata": {},
     "output_type": "display_data"
    }
   ],
   "source": [
    "#Univariate Data: Checking the distribution of vote averages from the top 10 budgetted movies\n",
    "top_5_budget = df_final.sort_values('budget', ascending=False).head(10)\n",
    "ax = sns.histplot(y=\"vote_average\", data = top_5_budget)"
   ]
  },
  {
   "cell_type": "markdown",
   "metadata": {},
   "source": [
    "### From the box plot before there is more votecounted in the less than 2000 compared to the higher x axis end. There are few outliers in the 4000 range"
   ]
  },
  {
   "cell_type": "code",
   "execution_count": 16,
   "metadata": {},
   "outputs": [
    {
     "data": {
      "text/plain": [
       "<AxesSubplot:xlabel='vote_count'>"
      ]
     },
     "execution_count": 16,
     "metadata": {},
     "output_type": "execute_result"
    },
    {
     "data": {
      "image/png": "[encoded data removed]",
      "text/plain": [
       "<Figure size 640x480 with 1 Axes>"
      ]
     },
     "metadata": {},
     "output_type": "display_data"
    }
   ],
   "source": [
    "#boxplot, univariate. \n",
    "sns.boxplot(x=df_final['vote_count'])"
   ]
  },
  {
   "cell_type": "code",
   "execution_count": 17,
   "metadata": {},
   "outputs": [],
   "source": [
    "#Type casting the release date_column to be a datetime column\n",
    "df_cleaner['release_date'] = pd.to_datetime(df_cleaner['release_date'])"
   ]
  },
  {
   "cell_type": "markdown",
   "metadata": {},
   "source": [
    "# 1. Amount of Vote per Language"
   ]
  },
  {
   "cell_type": "code",
   "execution_count": 36,
   "metadata": {},
   "outputs": [
    {
     "data": {
      "text/plain": [
       "en    4505\n",
       "fr      70\n",
       "es      32\n",
       "zh      27\n",
       "de      27\n",
       "Name: original_language, dtype: int64"
      ]
     },
     "execution_count": 36,
     "metadata": {},
     "output_type": "execute_result"
    }
   ],
   "source": [
    "#Variable(new_lang) was created to hold the value of each unique call value of \"original_language\". The result was printed out with the head function.\n",
    "new_lang = df_final[\"original_language\"].value_counts()\n",
    "new_lang.head()"
   ]
  },
  {
   "cell_type": "markdown",
   "metadata": {},
   "source": [
    "# 2. Relationship between Revenue and Runtime.  \n",
    "### From the plot below,there is an no distinct correlation in this chart. But it is visible that movies in the range of runtime 200 and 100 have increase in revenue."
   ]
  },
  {
   "cell_type": "code",
   "execution_count": 37,
   "metadata": {},
   "outputs": [
    {
     "data": {
      "text/plain": [
       "<AxesSubplot:title={'center':'Runtime against Revenue'}, xlabel='revenue', ylabel='runtime'>"
      ]
     },
     "execution_count": 37,
     "metadata": {},
     "output_type": "execute_result"
    },
    {
     "data": {
      "image/png": "[encoded data removed]",
      "text/plain": [
       "<Figure size 640x480 with 1 Axes>"
      ]
     },
     "metadata": {},
     "output_type": "display_data"
    }
   ],
   "source": [
    "#Scatter plot was done to check the relationship between \"revenue\" and \"runtime\" using the plot method of matplotlib.\n",
    "df_final.plot(x=\"revenue\", y=\"runtime\", kind=\"scatter\", title=\"Runtime against Revenue\")"
   ]
  },
  {
   "cell_type": "markdown",
   "metadata": {},
   "source": [
    "# 3. Relationship between Revenue and Popularity\n",
    "### From the plot below,there is an almost perfect positive correlation. There is a gradual increase in revenue with popularity. There are outliers which suppport this statement also."
   ]
  },
  {
   "cell_type": "code",
   "execution_count": 38,
   "metadata": {},
   "outputs": [
    {
     "data": {
      "text/plain": [
       "<AxesSubplot:title={'center':'Revenue against Popularity'}, xlabel='revenue', ylabel='popularity'>"
      ]
     },
     "execution_count": 38,
     "metadata": {},
     "output_type": "execute_result"
    },
    {
     "data": {
      "image/png": "[encoded data removed]",
      "text/plain": [
       "<Figure size 640x480 with 1 Axes>"
      ]
     },
     "metadata": {},
     "output_type": "display_data"
    }
   ],
   "source": [
    "#Scatter plot was done to check the relationship between \"revenue\" and \"popularity\" using the plot method of matplotlib.\n",
    "df_final.plot(x=\"revenue\", y=\"popularity\", kind=\"scatter\", title=\"Revenue against Popularity\")\n"
   ]
  },
  {
   "cell_type": "markdown",
   "metadata": {},
   "source": [
    "# 4. Relationship between Revenue and Average Vote\n",
    "### From the plot below, there is an almost perfect positive correclation. It is clear that there is revenue increase with increase in vote. Also some of the outliers but still supports this claim"
   ]
  },
  {
   "cell_type": "code",
   "execution_count": 39,
   "metadata": {},
   "outputs": [
    {
     "data": {
      "text/plain": [
       "<AxesSubplot:title={'center':'Amount of Vote against Revenue'}, xlabel='revenue', ylabel='vote_count'>"
      ]
     },
     "execution_count": 39,
     "metadata": {},
     "output_type": "execute_result"
    },
    {
     "data": {
      "image/png": "[encoded data removed]",
      "text/plain": [
       "<Figure size 640x480 with 1 Axes>"
      ]
     },
     "metadata": {},
     "output_type": "display_data"
    }
   ],
   "source": [
    "#Scatter plot was done to check the relationship between \"revenue\" and \"vote_count\" using the plot method of matplotlib.\n",
    "df_final.plot(x=\"revenue\", y=\"vote_count\", kind=\"scatter\", title=\"Amount of Vote against Revenue\")"
   ]
  },
  {
   "cell_type": "markdown",
   "metadata": {},
   "source": [
    "# 5. Language With the Highest Popularity is ENGLISH\n",
    "###\tMinions\t875.581305\ten"
   ]
  },
  {
   "cell_type": "code",
   "execution_count": 40,
   "metadata": {},
   "outputs": [
    {
     "data": {
      "text/html": [
       "<div>\n",
       "<style scoped>\n",
       "    .dataframe tbody tr th:only-of-type {\n",
       "        vertical-align: middle;\n",
       "    }\n",
       "\n",
       "    .dataframe tbody tr th {\n",
       "        vertical-align: top;\n",
       "    }\n",
       "\n",
       "    .dataframe thead th {\n",
       "        text-align: right;\n",
       "    }\n",
       "</style>\n",
       "<table border=\"1\" class=\"dataframe\">\n",
       "  <thead>\n",
       "    <tr style=\"text-align: right;\">\n",
       "      <th></th>\n",
       "      <th>title</th>\n",
       "      <th>popularity</th>\n",
       "      <th>original_language</th>\n",
       "    </tr>\n",
       "  </thead>\n",
       "  <tbody>\n",
       "    <tr>\n",
       "      <th>546</th>\n",
       "      <td>Minions</td>\n",
       "      <td>875.581305</td>\n",
       "      <td>en</td>\n",
       "    </tr>\n",
       "    <tr>\n",
       "      <th>95</th>\n",
       "      <td>Interstellar</td>\n",
       "      <td>724.247784</td>\n",
       "      <td>en</td>\n",
       "    </tr>\n",
       "    <tr>\n",
       "      <th>788</th>\n",
       "      <td>Deadpool</td>\n",
       "      <td>514.569956</td>\n",
       "      <td>en</td>\n",
       "    </tr>\n",
       "    <tr>\n",
       "      <th>94</th>\n",
       "      <td>Guardians of the Galaxy</td>\n",
       "      <td>481.098624</td>\n",
       "      <td>en</td>\n",
       "    </tr>\n",
       "    <tr>\n",
       "      <th>127</th>\n",
       "      <td>Mad Max: Fury Road</td>\n",
       "      <td>434.278564</td>\n",
       "      <td>en</td>\n",
       "    </tr>\n",
       "  </tbody>\n",
       "</table>\n",
       "</div>"
      ],
      "text/plain": [
       "                       title  popularity original_language\n",
       "546                  Minions  875.581305                en\n",
       "95              Interstellar  724.247784                en\n",
       "788                 Deadpool  514.569956                en\n",
       "94   Guardians of the Galaxy  481.098624                en\n",
       "127       Mad Max: Fury Road  434.278564                en"
      ]
     },
     "execution_count": 40,
     "metadata": {},
     "output_type": "execute_result"
    }
   ],
   "source": [
    "#Variable (df_top5_popular) was created to hold the sorted value of top 5 popular movies, it was sorted in acending order in-order to get top 5\n",
    "df_top5_popular = df_final.sort_values(by=['popularity','title'], ascending=False)\n",
    "df_top5_popular[['title','popularity','original_language']].head(5)"
   ]
  },
  {
   "cell_type": "markdown",
   "metadata": {},
   "source": [
    "# 6. Top 5 Voted for Movies\n",
    "### Title\tVote Count\n",
    "###\tInception\t13752\n",
    "###\tThe Dark Knight\t12002\n",
    "###\tAvatar\t11800\n",
    "###\tThe Avengers\t11776\n",
    "###\tDeadpool\t10995"
   ]
  },
  {
   "cell_type": "code",
   "execution_count": 23,
   "metadata": {},
   "outputs": [
    {
     "data": {
      "text/html": [
       "<div>\n",
       "<style scoped>\n",
       "    .dataframe tbody tr th:only-of-type {\n",
       "        vertical-align: middle;\n",
       "    }\n",
       "\n",
       "    .dataframe tbody tr th {\n",
       "        vertical-align: top;\n",
       "    }\n",
       "\n",
       "    .dataframe thead th {\n",
       "        text-align: right;\n",
       "    }\n",
       "</style>\n",
       "<table border=\"1\" class=\"dataframe\">\n",
       "  <thead>\n",
       "    <tr style=\"text-align: right;\">\n",
       "      <th></th>\n",
       "      <th>title</th>\n",
       "      <th>vote_count</th>\n",
       "    </tr>\n",
       "  </thead>\n",
       "  <tbody>\n",
       "    <tr>\n",
       "      <th>96</th>\n",
       "      <td>Inception</td>\n",
       "      <td>13752.0</td>\n",
       "    </tr>\n",
       "    <tr>\n",
       "      <th>65</th>\n",
       "      <td>The Dark Knight</td>\n",
       "      <td>12002.0</td>\n",
       "    </tr>\n",
       "    <tr>\n",
       "      <th>0</th>\n",
       "      <td>Avatar</td>\n",
       "      <td>11800.0</td>\n",
       "    </tr>\n",
       "    <tr>\n",
       "      <th>16</th>\n",
       "      <td>The Avengers</td>\n",
       "      <td>11776.0</td>\n",
       "    </tr>\n",
       "    <tr>\n",
       "      <th>788</th>\n",
       "      <td>Deadpool</td>\n",
       "      <td>10995.0</td>\n",
       "    </tr>\n",
       "  </tbody>\n",
       "</table>\n",
       "</div>"
      ],
      "text/plain": [
       "               title  vote_count\n",
       "96         Inception     13752.0\n",
       "65   The Dark Knight     12002.0\n",
       "0             Avatar     11800.0\n",
       "16      The Avengers     11776.0\n",
       "788         Deadpool     10995.0"
      ]
     },
     "execution_count": 23,
     "metadata": {},
     "output_type": "execute_result"
    }
   ],
   "source": [
    "df_top5_vote = df_final.sort_values(by=['vote_count','title'], ascending=False)\n",
    "new_df = df_top5_vote[['title','vote_count']].head(5)\n",
    "new_df"
   ]
  },
  {
   "cell_type": "code",
   "execution_count": 24,
   "metadata": {},
   "outputs": [
    {
     "data": {
      "text/plain": [
       "[Text(0.5, 1.0, 'Top 5 Voted Movie')]"
      ]
     },
     "execution_count": 24,
     "metadata": {},
     "output_type": "execute_result"
    },
    {
     "data": {
      "image/png": "[encoded data removed]",
      "text/plain": [
       "<Figure size 640x480 with 1 Axes>"
      ]
     },
     "metadata": {},
     "output_type": "display_data"
    }
   ],
   "source": [
    "sns.barplot(data=new_df, x=\"title\", y=\"vote_count\").set(title='Top 5 Voted Movie')"
   ]
  },
  {
   "cell_type": "markdown",
   "metadata": {},
   "source": [
    "# 7. Movie with longest runtime is \"Carlos\" with 338 Minutes!\n",
    "### Check cell 48"
   ]
  },
  {
   "cell_type": "code",
   "execution_count": 25,
   "metadata": {},
   "outputs": [
    {
     "data": {
      "text/plain": [
       "338.0"
      ]
     },
     "execution_count": 25,
     "metadata": {},
     "output_type": "execute_result"
    }
   ],
   "source": [
    "#Movie with longest runtime is 338 minutes!\n",
    "df_final['runtime'].max()"
   ]
  },
  {
   "cell_type": "code",
   "execution_count": 28,
   "metadata": {},
   "outputs": [
    {
     "data": {
      "text/plain": [
       "[Text(0.5, 1.0, 'Top 5 Titles with Highest Budget')]"
      ]
     },
     "execution_count": 28,
     "metadata": {},
     "output_type": "execute_result"
    },
    {
     "data": {
      "image/png": "[encoded data removed]",
      "text/plain": [
       "<Figure size 640x480 with 1 Axes>"
      ]
     },
     "metadata": {},
     "output_type": "display_data"
    }
   ],
   "source": [
    "df_rt = df_final.sort_values(by=['runtime',], ascending=False).head(5)\n",
    "sns.barplot(data=df_rt, y=\"title\", x=\"runtime\").set(title='Top 5 Titles with Highest Budget')"
   ]
  },
  {
   "cell_type": "markdown",
   "metadata": {},
   "source": [
    "# CONCLUSIONS\n",
    "## All questions have been answered.\n",
    "### 1. Amount of votes per Language?\n",
    "\ten    4505\n",
    "\tfr      70\n",
    "\tes      32\n",
    "\tzh      27\n",
    "\tde      27\n",
    "### 2. Relationship between Revenue and Runtime?\n",
    "\tThere is no distinct correlation in this chart. But it is visible that movies in the range of runtime 200 and 100 have increase in revenue.\n",
    "### 3. Relationship between Revenue and Popularity?\n",
    "\tThere is an almost perfect positive correlation. There is a gradual increase in revenue with popularity. There are outliers which suppport this statement also.\n",
    "### 4. Relationship between Revenue and Amount of Votes?\n",
    "\tThere is an almost perfect positive correclation. It is clear that there is revenue increase with increase in vote. Also some of the outliers but still supports this claim\n",
    "### 5. Which language has the highest popularity?\n",
    "\tLanguage With the Highest Popularity is ENGLISH, Minion is the most popular movie.\n",
    "\n",
    "### 6. Top five voted for movies?\n",
    "\tInception\t13752\n",
    "\tThe Dark Knight\t12002\n",
    "    Avatar\t11800\n",
    "\tThe Avengers\t11776\n",
    "\tDeadpool\t10995\n",
    "\n",
    "### 7. Movie with longest runtime? \n",
    "\tCarlos\n",
    "\n",
    "## Limitations\n",
    "### I could not get presentable inside from  production_countries and spoken_language columns becuase their values needs trimming\n",
    "\n",
    "### Report\n",
    "\tAnalysis was done, and aim achieved."
   ]
  },
  {
   "cell_type": "code",
   "execution_count": 27,
   "metadata": {},
   "outputs": [],
   "source": [
    "df_cleaner.to_csv('/home/opejoseph/Documents/ALX Assignments/Investigate.csv')"
   ]
  }
 ],
 "metadata": {
  "kernelspec": {
   "display_name": "Python 3 (ipykernel)",
   "language": "python",
   "name": "python3"
  },
  "language_info": {
   "codemirror_mode": {
    "name": "ipython",
    "version": 3
   },
   "file_extension": ".py",
   "mimetype": "text/x-python",
   "name": "python",
   "nbconvert_exporter": "python",
   "pygments_lexer": "ipython3",
   "version": "3.10.6"
  },
  "vscode": {
   "interpreter": {
    "hash": "916dbcbb3f70747c44a77c7bcd40155683ae19c65e1c03b4aa3499c5328201f1"
   }
  }
 },
 "nbformat": 4,
 "nbformat_minor": 2
}
